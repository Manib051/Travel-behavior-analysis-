{
 "cells": [
  {
   "cell_type": "markdown",
   "id": "a7e4182e-9a7b-4318-8a15-6b06404399c2",
   "metadata": {},
   "source": [
    "#### Name : Mani Botla\n",
    "#### Date : 8/12/2025\n",
    "#### Cleaning the dataset for analysis."
   ]
  },
  {
   "cell_type": "markdown",
   "id": "5c96ba6a-4cb3-450e-8628-468bdcf1347b",
   "metadata": {},
   "source": [
    "#### Import pandas and load the csv file"
   ]
  },
  {
   "cell_type": "code",
   "execution_count": 1,
   "id": "aa8c00ba-6bad-4086-bb6c-9eb1589d66ee",
   "metadata": {},
   "outputs": [],
   "source": [
    "import pandas as pd\n",
    "df = pd.read_csv(\"trainSet.csv\")"
   ]
  },
  {
   "cell_type": "markdown",
   "id": "bd36cbdf-47ca-4acb-a594-2091a5d72ac7",
   "metadata": {},
   "source": [
    "#### Checking outliers and summary statistics\n",
    "`.describe()` : summary stats for all columns - to check if there are extreme values in numeric or date columns"
   ]
  },
  {
   "cell_type": "code",
   "execution_count": 2,
   "id": "9cb3942b-37ed-49a9-b115-300a656184b5",
   "metadata": {},
   "outputs": [
    {
     "data": {
      "text/html": [
       "<div>\n",
       "<style scoped>\n",
       "    .dataframe tbody tr th:only-of-type {\n",
       "        vertical-align: middle;\n",
       "    }\n",
       "\n",
       "    .dataframe tbody tr th {\n",
       "        vertical-align: top;\n",
       "    }\n",
       "\n",
       "    .dataframe thead th {\n",
       "        text-align: right;\n",
       "    }\n",
       "</style>\n",
       "<table border=\"1\" class=\"dataframe\">\n",
       "  <thead>\n",
       "    <tr style=\"text-align: right;\">\n",
       "      <th></th>\n",
       "      <th>user_id</th>\n",
       "      <th>checkin</th>\n",
       "      <th>checkout</th>\n",
       "      <th>city_id</th>\n",
       "      <th>device_class</th>\n",
       "      <th>affiliate_id</th>\n",
       "      <th>booker_country</th>\n",
       "      <th>hotel_country</th>\n",
       "      <th>utrip_id</th>\n",
       "    </tr>\n",
       "  </thead>\n",
       "  <tbody>\n",
       "    <tr>\n",
       "      <th>count</th>\n",
       "      <td>1.048575e+06</td>\n",
       "      <td>1048575</td>\n",
       "      <td>1048575</td>\n",
       "      <td>1.048575e+06</td>\n",
       "      <td>1048575</td>\n",
       "      <td>1.048575e+06</td>\n",
       "      <td>1048575</td>\n",
       "      <td>1048575</td>\n",
       "      <td>1048575</td>\n",
       "    </tr>\n",
       "    <tr>\n",
       "      <th>unique</th>\n",
       "      <td>NaN</td>\n",
       "      <td>425</td>\n",
       "      <td>425</td>\n",
       "      <td>NaN</td>\n",
       "      <td>3</td>\n",
       "      <td>NaN</td>\n",
       "      <td>5</td>\n",
       "      <td>195</td>\n",
       "      <td>195538</td>\n",
       "    </tr>\n",
       "    <tr>\n",
       "      <th>top</th>\n",
       "      <td>NaN</td>\n",
       "      <td>8/8/2016</td>\n",
       "      <td>8/10/2016</td>\n",
       "      <td>NaN</td>\n",
       "      <td>desktop</td>\n",
       "      <td>NaN</td>\n",
       "      <td>Gondal</td>\n",
       "      <td>Cobra Island</td>\n",
       "      <td>3635431_3</td>\n",
       "    </tr>\n",
       "    <tr>\n",
       "      <th>freq</th>\n",
       "      <td>NaN</td>\n",
       "      <td>8621</td>\n",
       "      <td>8514</td>\n",
       "      <td>NaN</td>\n",
       "      <td>677799</td>\n",
       "      <td>NaN</td>\n",
       "      <td>482468</td>\n",
       "      <td>123839</td>\n",
       "      <td>48</td>\n",
       "    </tr>\n",
       "    <tr>\n",
       "      <th>mean</th>\n",
       "      <td>3.213420e+06</td>\n",
       "      <td>NaN</td>\n",
       "      <td>NaN</td>\n",
       "      <td>3.347743e+04</td>\n",
       "      <td>NaN</td>\n",
       "      <td>5.720926e+03</td>\n",
       "      <td>NaN</td>\n",
       "      <td>NaN</td>\n",
       "      <td>NaN</td>\n",
       "    </tr>\n",
       "    <tr>\n",
       "      <th>std</th>\n",
       "      <td>1.690987e+06</td>\n",
       "      <td>NaN</td>\n",
       "      <td>NaN</td>\n",
       "      <td>1.957905e+04</td>\n",
       "      <td>NaN</td>\n",
       "      <td>3.963644e+03</td>\n",
       "      <td>NaN</td>\n",
       "      <td>NaN</td>\n",
       "      <td>NaN</td>\n",
       "    </tr>\n",
       "    <tr>\n",
       "      <th>min</th>\n",
       "      <td>2.900000e+01</td>\n",
       "      <td>NaN</td>\n",
       "      <td>NaN</td>\n",
       "      <td>2.000000e+00</td>\n",
       "      <td>NaN</td>\n",
       "      <td>5.000000e+00</td>\n",
       "      <td>NaN</td>\n",
       "      <td>NaN</td>\n",
       "      <td>NaN</td>\n",
       "    </tr>\n",
       "    <tr>\n",
       "      <th>25%</th>\n",
       "      <td>1.846553e+06</td>\n",
       "      <td>NaN</td>\n",
       "      <td>NaN</td>\n",
       "      <td>1.701300e+04</td>\n",
       "      <td>NaN</td>\n",
       "      <td>1.013000e+03</td>\n",
       "      <td>NaN</td>\n",
       "      <td>NaN</td>\n",
       "      <td>NaN</td>\n",
       "    </tr>\n",
       "    <tr>\n",
       "      <th>50%</th>\n",
       "      <td>3.250225e+06</td>\n",
       "      <td>NaN</td>\n",
       "      <td>NaN</td>\n",
       "      <td>3.233900e+04</td>\n",
       "      <td>NaN</td>\n",
       "      <td>6.309000e+03</td>\n",
       "      <td>NaN</td>\n",
       "      <td>NaN</td>\n",
       "      <td>NaN</td>\n",
       "    </tr>\n",
       "    <tr>\n",
       "      <th>75%</th>\n",
       "      <td>4.666156e+06</td>\n",
       "      <td>NaN</td>\n",
       "      <td>NaN</td>\n",
       "      <td>5.112800e+04</td>\n",
       "      <td>NaN</td>\n",
       "      <td>9.924000e+03</td>\n",
       "      <td>NaN</td>\n",
       "      <td>NaN</td>\n",
       "      <td>NaN</td>\n",
       "    </tr>\n",
       "    <tr>\n",
       "      <th>max</th>\n",
       "      <td>6.065381e+06</td>\n",
       "      <td>NaN</td>\n",
       "      <td>NaN</td>\n",
       "      <td>6.756500e+04</td>\n",
       "      <td>NaN</td>\n",
       "      <td>1.069700e+04</td>\n",
       "      <td>NaN</td>\n",
       "      <td>NaN</td>\n",
       "      <td>NaN</td>\n",
       "    </tr>\n",
       "  </tbody>\n",
       "</table>\n",
       "</div>"
      ],
      "text/plain": [
       "             user_id   checkin   checkout       city_id device_class  \\\n",
       "count   1.048575e+06   1048575    1048575  1.048575e+06      1048575   \n",
       "unique           NaN       425        425           NaN            3   \n",
       "top              NaN  8/8/2016  8/10/2016           NaN      desktop   \n",
       "freq             NaN      8621       8514           NaN       677799   \n",
       "mean    3.213420e+06       NaN        NaN  3.347743e+04          NaN   \n",
       "std     1.690987e+06       NaN        NaN  1.957905e+04          NaN   \n",
       "min     2.900000e+01       NaN        NaN  2.000000e+00          NaN   \n",
       "25%     1.846553e+06       NaN        NaN  1.701300e+04          NaN   \n",
       "50%     3.250225e+06       NaN        NaN  3.233900e+04          NaN   \n",
       "75%     4.666156e+06       NaN        NaN  5.112800e+04          NaN   \n",
       "max     6.065381e+06       NaN        NaN  6.756500e+04          NaN   \n",
       "\n",
       "        affiliate_id booker_country hotel_country   utrip_id  \n",
       "count   1.048575e+06        1048575       1048575    1048575  \n",
       "unique           NaN              5           195     195538  \n",
       "top              NaN         Gondal  Cobra Island  3635431_3  \n",
       "freq             NaN         482468        123839         48  \n",
       "mean    5.720926e+03            NaN           NaN        NaN  \n",
       "std     3.963644e+03            NaN           NaN        NaN  \n",
       "min     5.000000e+00            NaN           NaN        NaN  \n",
       "25%     1.013000e+03            NaN           NaN        NaN  \n",
       "50%     6.309000e+03            NaN           NaN        NaN  \n",
       "75%     9.924000e+03            NaN           NaN        NaN  \n",
       "max     1.069700e+04            NaN           NaN        NaN  "
      ]
     },
     "execution_count": 2,
     "metadata": {},
     "output_type": "execute_result"
    }
   ],
   "source": [
    "\n",
    "df.describe(include=\"all\")\n"
   ]
  },
  {
   "cell_type": "markdown",
   "id": "7173cb8d-7d38-4f85-ae34-963f9942f3e7",
   "metadata": {},
   "source": [
    "#### Check for missing values : checks how many NaN values are in each column"
   ]
  },
  {
   "cell_type": "code",
   "execution_count": 3,
   "id": "619382e8-f914-4a3b-9a0e-b8b929a6ac6a",
   "metadata": {},
   "outputs": [
    {
     "data": {
      "text/plain": [
       "user_id           0\n",
       "checkin           0\n",
       "checkout          0\n",
       "city_id           0\n",
       "device_class      0\n",
       "affiliate_id      0\n",
       "booker_country    0\n",
       "hotel_country     0\n",
       "utrip_id          0\n",
       "dtype: int64"
      ]
     },
     "execution_count": 3,
     "metadata": {},
     "output_type": "execute_result"
    }
   ],
   "source": [
    "\n",
    "missing_summary = df.isna().sum()\n",
    "missing_summary\n"
   ]
  },
  {
   "cell_type": "markdown",
   "id": "4b034bd7-8c91-41bb-9322-9727546906d1",
   "metadata": {},
   "source": [
    "#### Results : 0 NaN values were found."
   ]
  },
  {
   "cell_type": "markdown",
   "id": "a3e3bf41-0555-4bc4-826b-83647cf413c2",
   "metadata": {},
   "source": [
    "#### Standardizing column names and making sure all column names are replaced with underscore if they have a space in the name"
   ]
  },
  {
   "cell_type": "code",
   "execution_count": 4,
   "id": "1fdb85cd-1bf2-485b-b393-2d66a0dece65",
   "metadata": {},
   "outputs": [
    {
     "data": {
      "text/html": [
       "<div>\n",
       "<style scoped>\n",
       "    .dataframe tbody tr th:only-of-type {\n",
       "        vertical-align: middle;\n",
       "    }\n",
       "\n",
       "    .dataframe tbody tr th {\n",
       "        vertical-align: top;\n",
       "    }\n",
       "\n",
       "    .dataframe thead th {\n",
       "        text-align: right;\n",
       "    }\n",
       "</style>\n",
       "<table border=\"1\" class=\"dataframe\">\n",
       "  <thead>\n",
       "    <tr style=\"text-align: right;\">\n",
       "      <th></th>\n",
       "      <th>user_id</th>\n",
       "      <th>checkin</th>\n",
       "      <th>checkout</th>\n",
       "      <th>city_id</th>\n",
       "      <th>device_class</th>\n",
       "      <th>affiliate_id</th>\n",
       "      <th>booker_country</th>\n",
       "      <th>hotel_country</th>\n",
       "      <th>utrip_id</th>\n",
       "    </tr>\n",
       "  </thead>\n",
       "  <tbody>\n",
       "    <tr>\n",
       "      <th>0</th>\n",
       "      <td>1000027</td>\n",
       "      <td>8/13/2016</td>\n",
       "      <td>8/14/2016</td>\n",
       "      <td>8183</td>\n",
       "      <td>desktop</td>\n",
       "      <td>7168</td>\n",
       "      <td>Elbonia</td>\n",
       "      <td>Gondal</td>\n",
       "      <td>1000027_1</td>\n",
       "    </tr>\n",
       "    <tr>\n",
       "      <th>1</th>\n",
       "      <td>1000027</td>\n",
       "      <td>8/14/2016</td>\n",
       "      <td>8/16/2016</td>\n",
       "      <td>15626</td>\n",
       "      <td>desktop</td>\n",
       "      <td>7168</td>\n",
       "      <td>Elbonia</td>\n",
       "      <td>Gondal</td>\n",
       "      <td>1000027_1</td>\n",
       "    </tr>\n",
       "    <tr>\n",
       "      <th>2</th>\n",
       "      <td>1000027</td>\n",
       "      <td>8/16/2016</td>\n",
       "      <td>8/18/2016</td>\n",
       "      <td>60902</td>\n",
       "      <td>desktop</td>\n",
       "      <td>7168</td>\n",
       "      <td>Elbonia</td>\n",
       "      <td>Gondal</td>\n",
       "      <td>1000027_1</td>\n",
       "    </tr>\n",
       "    <tr>\n",
       "      <th>3</th>\n",
       "      <td>1000027</td>\n",
       "      <td>8/18/2016</td>\n",
       "      <td>8/21/2016</td>\n",
       "      <td>30628</td>\n",
       "      <td>desktop</td>\n",
       "      <td>253</td>\n",
       "      <td>Elbonia</td>\n",
       "      <td>Gondal</td>\n",
       "      <td>1000027_1</td>\n",
       "    </tr>\n",
       "    <tr>\n",
       "      <th>4</th>\n",
       "      <td>1000033</td>\n",
       "      <td>4/9/2016</td>\n",
       "      <td>4/11/2016</td>\n",
       "      <td>38677</td>\n",
       "      <td>mobile</td>\n",
       "      <td>359</td>\n",
       "      <td>Gondal</td>\n",
       "      <td>Cobra Island</td>\n",
       "      <td>1000033_1</td>\n",
       "    </tr>\n",
       "  </tbody>\n",
       "</table>\n",
       "</div>"
      ],
      "text/plain": [
       "   user_id    checkin   checkout  city_id device_class  affiliate_id  \\\n",
       "0  1000027  8/13/2016  8/14/2016     8183      desktop          7168   \n",
       "1  1000027  8/14/2016  8/16/2016    15626      desktop          7168   \n",
       "2  1000027  8/16/2016  8/18/2016    60902      desktop          7168   \n",
       "3  1000027  8/18/2016  8/21/2016    30628      desktop           253   \n",
       "4  1000033   4/9/2016  4/11/2016    38677       mobile           359   \n",
       "\n",
       "  booker_country hotel_country   utrip_id  \n",
       "0        Elbonia        Gondal  1000027_1  \n",
       "1        Elbonia        Gondal  1000027_1  \n",
       "2        Elbonia        Gondal  1000027_1  \n",
       "3        Elbonia        Gondal  1000027_1  \n",
       "4         Gondal  Cobra Island  1000033_1  "
      ]
     },
     "execution_count": 4,
     "metadata": {},
     "output_type": "execute_result"
    }
   ],
   "source": [
    "df.columns = [col.strip().lower().replace(\" \", \"_\") for col in df.columns]\n",
    "df.head()\n"
   ]
  },
  {
   "cell_type": "markdown",
   "id": "d227d187-d615-4395-8a2f-1657df004f5c",
   "metadata": {},
   "source": [
    "#### Check Date Columns for Validity : ensure that `checkin` and `checkout` are valid dates and see if any rows have invalid or missing dates. Count invalid dates.\n"
   ]
  },
  {
   "cell_type": "code",
   "execution_count": 5,
   "id": "04dbf15f-bafa-43b0-a487-deed205b0152",
   "metadata": {},
   "outputs": [
    {
     "data": {
      "text/plain": [
       "checkin     0\n",
       "checkout    0\n",
       "dtype: int64"
      ]
     },
     "execution_count": 5,
     "metadata": {},
     "output_type": "execute_result"
    }
   ],
   "source": [
    "date_cols = [\"checkin\", \"checkout\"]\n",
    "for col in date_cols:\n",
    "    df[col] = pd.to_datetime(df[col], errors=\"coerce\")\n",
    "\n",
    "df[date_cols].isna().sum()\n"
   ]
  },
  {
   "cell_type": "markdown",
   "id": "89ef833d-9895-4b80-b172-af85017a6cc1",
   "metadata": {},
   "source": [
    "#### Result : 0 invalid dates was the output. "
   ]
  },
  {
   "cell_type": "markdown",
   "id": "889303b4-a6aa-4bac-a191-cbae0155a001",
   "metadata": {},
   "source": [
    "### Identify Logical Date Errors -  check if any `checkout` dates are earlier than `checkin` dates.\n"
   ]
  },
  {
   "cell_type": "code",
   "execution_count": 6,
   "id": "87ec5d23-afcf-48a3-800a-c65810cb7f9b",
   "metadata": {},
   "outputs": [
    {
     "data": {
      "text/html": [
       "<div>\n",
       "<style scoped>\n",
       "    .dataframe tbody tr th:only-of-type {\n",
       "        vertical-align: middle;\n",
       "    }\n",
       "\n",
       "    .dataframe tbody tr th {\n",
       "        vertical-align: top;\n",
       "    }\n",
       "\n",
       "    .dataframe thead th {\n",
       "        text-align: right;\n",
       "    }\n",
       "</style>\n",
       "<table border=\"1\" class=\"dataframe\">\n",
       "  <thead>\n",
       "    <tr style=\"text-align: right;\">\n",
       "      <th></th>\n",
       "      <th>user_id</th>\n",
       "      <th>checkin</th>\n",
       "      <th>checkout</th>\n",
       "      <th>city_id</th>\n",
       "      <th>device_class</th>\n",
       "      <th>affiliate_id</th>\n",
       "      <th>booker_country</th>\n",
       "      <th>hotel_country</th>\n",
       "      <th>utrip_id</th>\n",
       "    </tr>\n",
       "  </thead>\n",
       "  <tbody>\n",
       "  </tbody>\n",
       "</table>\n",
       "</div>"
      ],
      "text/plain": [
       "Empty DataFrame\n",
       "Columns: [user_id, checkin, checkout, city_id, device_class, affiliate_id, booker_country, hotel_country, utrip_id]\n",
       "Index: []"
      ]
     },
     "execution_count": 6,
     "metadata": {},
     "output_type": "execute_result"
    }
   ],
   "source": [
    "invalid_date_ranges = df[df[\"checkout\"] < df[\"checkin\"]]\n",
    "invalid_date_ranges\n"
   ]
  },
  {
   "cell_type": "markdown",
   "id": "0fdae5c3-a2a6-4efd-9f0b-1b0d24b0205a",
   "metadata": {},
   "source": [
    "#### Result : The code did not return any row so there no logical date errors."
   ]
  },
  {
   "cell_type": "markdown",
   "id": "0300b33d-9b90-4e5e-9e0d-91ea5ad0f2c5",
   "metadata": {},
   "source": [
    "#### Find any outliers using IQR method: "
   ]
  },
  {
   "cell_type": "code",
   "execution_count": 7,
   "id": "1914c7f7-3b71-448c-843d-2184fe480334",
   "metadata": {},
   "outputs": [
    {
     "name": "stdout",
     "output_type": "stream",
     "text": [
      "user_id: 0 outliers\n",
      "city_id: 0 outliers\n",
      "affiliate_id: 0 outliers\n"
     ]
    }
   ],
   "source": [
    "import numpy as np\n",
    "\n",
    "for col in df.select_dtypes(include=np.number).columns:\n",
    "    Q1 = df[col].quantile(0.25)\n",
    "    Q3 = df[col].quantile(0.75)\n",
    "    IQR = Q3 - Q1\n",
    "    lower_bound = Q1 - 1.5 * IQR\n",
    "    upper_bound = Q3 + 1.5 * IQR\n",
    "    \n",
    "    outliers = df[(df[col] < lower_bound) | (df[col] > upper_bound)]\n",
    "    print(f\"{col}: {len(outliers)} outliers\")\n"
   ]
  },
  {
   "cell_type": "markdown",
   "id": "e80ebba3-c5ef-4f0b-a1ce-7f8283010183",
   "metadata": {},
   "source": [
    "#### 0 outliers were found for the  numeric columns."
   ]
  },
  {
   "cell_type": "markdown",
   "id": "a3ee4321-79ce-4cea-b0e6-1db6d519d896",
   "metadata": {},
   "source": [
    "#### `.head()` : display first few rows of cleaned dataset"
   ]
  },
  {
   "cell_type": "code",
   "execution_count": 8,
   "id": "964ba115-b025-4c8a-b7b5-74e1ce979abc",
   "metadata": {
    "scrolled": true
   },
   "outputs": [
    {
     "data": {
      "text/html": [
       "<div>\n",
       "<style scoped>\n",
       "    .dataframe tbody tr th:only-of-type {\n",
       "        vertical-align: middle;\n",
       "    }\n",
       "\n",
       "    .dataframe tbody tr th {\n",
       "        vertical-align: top;\n",
       "    }\n",
       "\n",
       "    .dataframe thead th {\n",
       "        text-align: right;\n",
       "    }\n",
       "</style>\n",
       "<table border=\"1\" class=\"dataframe\">\n",
       "  <thead>\n",
       "    <tr style=\"text-align: right;\">\n",
       "      <th></th>\n",
       "      <th>user_id</th>\n",
       "      <th>checkin</th>\n",
       "      <th>checkout</th>\n",
       "      <th>city_id</th>\n",
       "      <th>device_class</th>\n",
       "      <th>affiliate_id</th>\n",
       "      <th>booker_country</th>\n",
       "      <th>hotel_country</th>\n",
       "      <th>utrip_id</th>\n",
       "    </tr>\n",
       "  </thead>\n",
       "  <tbody>\n",
       "    <tr>\n",
       "      <th>0</th>\n",
       "      <td>1000027</td>\n",
       "      <td>2016-08-13</td>\n",
       "      <td>2016-08-14</td>\n",
       "      <td>8183</td>\n",
       "      <td>desktop</td>\n",
       "      <td>7168</td>\n",
       "      <td>Elbonia</td>\n",
       "      <td>Gondal</td>\n",
       "      <td>1000027_1</td>\n",
       "    </tr>\n",
       "    <tr>\n",
       "      <th>1</th>\n",
       "      <td>1000027</td>\n",
       "      <td>2016-08-14</td>\n",
       "      <td>2016-08-16</td>\n",
       "      <td>15626</td>\n",
       "      <td>desktop</td>\n",
       "      <td>7168</td>\n",
       "      <td>Elbonia</td>\n",
       "      <td>Gondal</td>\n",
       "      <td>1000027_1</td>\n",
       "    </tr>\n",
       "    <tr>\n",
       "      <th>2</th>\n",
       "      <td>1000027</td>\n",
       "      <td>2016-08-16</td>\n",
       "      <td>2016-08-18</td>\n",
       "      <td>60902</td>\n",
       "      <td>desktop</td>\n",
       "      <td>7168</td>\n",
       "      <td>Elbonia</td>\n",
       "      <td>Gondal</td>\n",
       "      <td>1000027_1</td>\n",
       "    </tr>\n",
       "    <tr>\n",
       "      <th>3</th>\n",
       "      <td>1000027</td>\n",
       "      <td>2016-08-18</td>\n",
       "      <td>2016-08-21</td>\n",
       "      <td>30628</td>\n",
       "      <td>desktop</td>\n",
       "      <td>253</td>\n",
       "      <td>Elbonia</td>\n",
       "      <td>Gondal</td>\n",
       "      <td>1000027_1</td>\n",
       "    </tr>\n",
       "    <tr>\n",
       "      <th>4</th>\n",
       "      <td>1000033</td>\n",
       "      <td>2016-04-09</td>\n",
       "      <td>2016-04-11</td>\n",
       "      <td>38677</td>\n",
       "      <td>mobile</td>\n",
       "      <td>359</td>\n",
       "      <td>Gondal</td>\n",
       "      <td>Cobra Island</td>\n",
       "      <td>1000033_1</td>\n",
       "    </tr>\n",
       "  </tbody>\n",
       "</table>\n",
       "</div>"
      ],
      "text/plain": [
       "   user_id    checkin   checkout  city_id device_class  affiliate_id  \\\n",
       "0  1000027 2016-08-13 2016-08-14     8183      desktop          7168   \n",
       "1  1000027 2016-08-14 2016-08-16    15626      desktop          7168   \n",
       "2  1000027 2016-08-16 2016-08-18    60902      desktop          7168   \n",
       "3  1000027 2016-08-18 2016-08-21    30628      desktop           253   \n",
       "4  1000033 2016-04-09 2016-04-11    38677       mobile           359   \n",
       "\n",
       "  booker_country hotel_country   utrip_id  \n",
       "0        Elbonia        Gondal  1000027_1  \n",
       "1        Elbonia        Gondal  1000027_1  \n",
       "2        Elbonia        Gondal  1000027_1  \n",
       "3        Elbonia        Gondal  1000027_1  \n",
       "4         Gondal  Cobra Island  1000033_1  "
      ]
     },
     "execution_count": 8,
     "metadata": {},
     "output_type": "execute_result"
    }
   ],
   "source": [
    "df.head()"
   ]
  },
  {
   "cell_type": "markdown",
   "id": "c378ca49-50a6-4c15-8ae4-f635f6e7d7ab",
   "metadata": {},
   "source": [
    "#### Save to new csv file."
   ]
  },
  {
   "cell_type": "code",
   "execution_count": 9,
   "id": "99e14616-6b0b-40cf-bd33-cbdf9eb9d1fa",
   "metadata": {},
   "outputs": [],
   "source": [
    "\n",
    "df.to_csv(\"train_set_cleaned.csv\", index=False)\n"
   ]
  },
  {
   "cell_type": "code",
   "execution_count": null,
   "id": "547d2b0a-e572-445f-a588-b7c772f9e9ad",
   "metadata": {},
   "outputs": [],
   "source": []
  }
 ],
 "metadata": {
  "kernelspec": {
   "display_name": "Python [conda env:base] *",
   "language": "python",
   "name": "conda-base-py"
  },
  "language_info": {
   "codemirror_mode": {
    "name": "ipython",
    "version": 3
   },
   "file_extension": ".py",
   "mimetype": "text/x-python",
   "name": "python",
   "nbconvert_exporter": "python",
   "pygments_lexer": "ipython3",
   "version": "3.13.5"
  }
 },
 "nbformat": 4,
 "nbformat_minor": 5
}
